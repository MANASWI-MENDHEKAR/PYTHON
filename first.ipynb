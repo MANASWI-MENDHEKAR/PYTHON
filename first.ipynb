{
 "cells": [
  {
   "cell_type": "code",
   "execution_count": 1,
   "id": "187d0668-b2af-41c3-b6ef-60afa61dbd44",
   "metadata": {},
   "outputs": [
    {
     "name": "stdout",
     "output_type": "stream",
     "text": [
      "hello\n"
     ]
    }
   ],
   "source": [
    "print(\"hello\")"
   ]
  },
  {
   "cell_type": "code",
   "execution_count": 2,
   "id": "5ce85a65-19a8-4b95-927d-29239c40f0ae",
   "metadata": {},
   "outputs": [],
   "source": [
    "import numpy as np"
   ]
  },
  {
   "cell_type": "code",
   "execution_count": 3,
   "id": "5e1dce04-cacd-4dfc-83cf-ec960594ae39",
   "metadata": {},
   "outputs": [
    {
     "name": "stdout",
     "output_type": "stream",
     "text": [
      "array from list : [12 23  2]\n"
     ]
    }
   ],
   "source": [
    "a = np.array([12,23,2])\n",
    "print(\"array from list :\",a)"
   ]
  },
  {
   "cell_type": "code",
   "execution_count": 5,
   "id": "ff708cf2-9f2e-4c41-a356-c9ff4356ea5d",
   "metadata": {},
   "outputs": [
    {
     "name": "stdout",
     "output_type": "stream",
     "text": [
      "array from tupple : [1 2 3]\n",
      "array from dictionary keys : {'a': 1, 'b': 2, 'c': 3}\n"
     ]
    }
   ],
   "source": [
    "import numpy as np\n",
    "b = np.array((1,2,3))\n",
    "print(\"array from tupple :\",b)\n",
    "dict_keys=np.array({'a':1,'b':2,'c':3})\n",
    "print(\"array from dictionary keys :\",dict_keys)\n",
    "dict_value=np.array("
   ]
  },
  {
   "cell_type": "code",
   "execution_count": null,
   "id": "5dcf2284-644e-483e-a47b-39148e928da9",
   "metadata": {},
   "outputs": [],
   "source": [
    "array_from_dict_values = np.array(list(dict_data.values()))"
   ]
  },
  {
   "cell_type": "code",
   "execution_count": null,
   "id": "cb4e6861-8c75-4099-a0fa-c130ee09e336",
   "metadata": {},
   "outputs": [],
   "source": []
  }
 ],
 "metadata": {
  "kernelspec": {
   "display_name": "Python 3 (ipykernel)",
   "language": "python",
   "name": "python3"
  },
  "language_info": {
   "codemirror_mode": {
    "name": "ipython",
    "version": 3
   },
   "file_extension": ".py",
   "mimetype": "text/x-python",
   "name": "python",
   "nbconvert_exporter": "python",
   "pygments_lexer": "ipython3",
   "version": "3.12.1"
  }
 },
 "nbformat": 4,
 "nbformat_minor": 5
}
